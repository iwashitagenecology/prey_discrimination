{
 "cells": [
  {
   "cell_type": "code",
   "execution_count": 3,
   "metadata": {
    "scrolled": true
   },
   "outputs": [],
   "source": [
    "# import recuired packages\n",
    "%matplotlib inline\n",
    "import numpy as np\n",
    "import matplotlib.pyplot as plt\n",
    "from scipy.integrate import odeint "
   ]
  },
  {
   "cell_type": "code",
   "execution_count": 468,
   "metadata": {},
   "outputs": [],
   "source": [
    "t_list=np.linspace(0.0, 100, 1000)"
   ]
  },
  {
   "cell_type": "code",
   "execution_count": 1333,
   "metadata": {},
   "outputs": [],
   "source": [
    "# define one-predator three-prey species model\n",
    "#Predator recognises Prey1 and Prey 2 as the same prey\n",
    "def functree(v,t,b1,b2,b3,r1,r2,r3,s,m1):\n",
    "    dc1dt = v[0]*(v[4]*(b1*v[1]+b2*v[2]-m1)+v[5]*(b3*v[3]-m1))\n",
    "    dr1dt = v[1]*(r1-s*v[1]-v[4]*v[0])\n",
    "    dr2dt = v[2]*(r2-s*v[2]-v[4]*v[0])\n",
    "    dr3dt = v[3]*(r3-s*v[3]-v[5]*v[0])\n",
    "    da1dt = v[4]*(b1*(1-v[4])*v[1]+b2*(1-v[4])*v[2]-b3*v[5]*v[3])\n",
    "    da2dt = v[5]*(b3*(1-v[5])*v[3]-v[4]*(b1*v[1]+b2*v[2]))\n",
    "    return [dc1dt,dr1dt,dr2dt,dr3dt,da1dt,da2dt]"
   ]
  },
  {
   "cell_type": "code",
   "execution_count": 1334,
   "metadata": {},
   "outputs": [],
   "source": [
    "# the parameters of this simulation( all cases)\n",
    "b1 = 1.5\n",
    "b2 = 2.5\n",
    "b3 = 1.5\n",
    "r1 = 4\n",
    "r2 = 2\n",
    "r3 = 1.8\n",
    "s = 1\n",
    "m1 = 2\n",
    "m2 = 1.4\n"
   ]
  },
  {
   "cell_type": "code",
   "execution_count": 1335,
   "metadata": {},
   "outputs": [],
   "source": [
    "v=[1,1,1,1,0.7,0.3] # initial conditon"
   ]
  },
  {
   "cell_type": "code",
   "execution_count": 1336,
   "metadata": {},
   "outputs": [],
   "source": [
    "#solve this model using package odeint\n",
    "var_list=odeint(functree,v,t_list,args=(b1,b2,b3,r1,r2,r3,s,m1))"
   ]
  },
  {
   "cell_type": "code",
   "execution_count": 1337,
   "metadata": {},
   "outputs": [
    {
     "data": {
      "text/plain": [
       "(0.0, 5.313640956004794)"
      ]
     },
     "execution_count": 1337,
     "metadata": {},
     "output_type": "execute_result"
    },
    {
     "data": {
      "image/png": "[encoded data removed]",
      "text/plain": [
       "<Figure size 432x288 with 1 Axes>"
      ]
     },
     "metadata": {
      "needs_background": "light"
     },
     "output_type": "display_data"
    }
   ],
   "source": [
    "#plot one-predator three-prey model simulation\n",
    "plt.plot(t_list,var_list[:,0],label=\"Predator 1\")\n",
    "plt.plot(t_list,var_list[:,1],label=\"Prey 1\")\n",
    "plt.plot(t_list,var_list[:,2],label=\"Prey 2\")\n",
    "plt.plot(t_list,var_list[:,3],label=\"Prey 3\")\n",
    "plt.xlabel('time')\n",
    "plt.ylabel('abundance')\n",
    "plt.legend()\n",
    "plt.ylim(0,)"
   ]
  },
  {
   "cell_type": "code",
   "execution_count": 1338,
   "metadata": {},
   "outputs": [],
   "source": [
    "init = [1,1,1,1,1,0.5,0.5,0.5,0.5] # initial conditon(Case2,Case3)\n",
    "init2 = [1,1,1,1,1,0.5,0.5,0.4,0.3,0.3] #inital condition(Case4)"
   ]
  },
  {
   "cell_type": "code",
   "execution_count": 1437,
   "metadata": {},
   "outputs": [],
   "source": [
    "#define two-predator three-prey model(case2)\n",
    "def functree(v,t,b1,b2,b3,r1,r2,r3,s,m1,m2):\n",
    "    dc1dt = v[0]*(v[5]*(b1*v[2]+b2*v[3])+v[6]*b3*v[4]-m1)\n",
    "    dc2dt = v[1]*(v[7]*b1*v[2]+v[8]*(b2*v[3]+b3*v[4])-m2)\n",
    "    dr1dt = v[2]*(r1-s*v[2]-v[5]*v[0]-v[7]*v[1])\n",
    "    dr2dt = v[3]*(r2-s*v[3]-v[5]*v[0]-v[8]*v[1])\n",
    "    dr3dt = v[4]*(r3-s*v[4]-v[6]*v[0]-v[8]*v[1])\n",
    "    da1dt = v[5]*(b1*(1-v[5])*v[2]+b2*(1-v[5])*v[3]-b3*v[4]*v[6])\n",
    "    da2dt = v[6]*(b3*(1-v[6])*v[4]-v[5]*(b1*v[2]+b2*v[3]))\n",
    "    da3dt = v[7]*(b1*(1-v[7])*v[2]-v[8]*(b2*v[3]+b3*v[4]))\n",
    "    da4dt = v[8]*((1-v[8])*(b2*v[3]+b3*v[4])-b1*v[2]*v[7])\n",
    "    return [dc1dt,dc2dt,dr1dt,dr2dt,dr3dt,da1dt,da2dt,da3dt,da4dt]"
   ]
  },
  {
   "cell_type": "code",
   "execution_count": 1438,
   "metadata": {},
   "outputs": [],
   "source": [
    "#caluculate this model(case2)\n",
    "var_list = odeint(functree, init, t_list, args=(b1,b2,b3,r1,r2,r3,s,m1,m2))"
   ]
  },
  {
   "cell_type": "code",
   "execution_count": 1439,
   "metadata": {},
   "outputs": [
    {
     "data": {
      "text/plain": [
       "(0.0, 4.501314026997864)"
      ]
     },
     "execution_count": 1439,
     "metadata": {},
     "output_type": "execute_result"
    },
    {
     "data": {
      "image/png": "[encoded data removed]",
      "text/plain": [
       "<Figure size 432x288 with 1 Axes>"
      ]
     },
     "metadata": {
      "needs_background": "light"
     },
     "output_type": "display_data"
    }
   ],
   "source": [
    "#plot this model(case2)\n",
    "plt.plot(t_list,var_list[:,0],label=\"Predator 1\")\n",
    "plt.plot(t_list,var_list[:,1],label=\"Predator 2\",color=\"m\")\n",
    "plt.plot(t_list,var_list[:,2],label=\"Prey 1\")\n",
    "plt.plot(t_list,var_list[:,3],label=\"Prey 2\")\n",
    "plt.plot(t_list,var_list[:,4],label=\"Prey 3\")\n",
    "plt.xlabel('time')\n",
    "plt.ylabel('abundance')\n",
    "plt.legend()\n",
    "plt.ylim(0,)"
   ]
  },
  {
   "cell_type": "code",
   "execution_count": 1434,
   "metadata": {},
   "outputs": [],
   "source": [
    "# define two-predator three-prey model (Case3)\n",
    "def functree(v,t,b1,b2,b3,r1,r2,r3,s,m1,m2):\n",
    "    dc1dt = v[0]*(v[5]*(b1*v[2]+b2*v[3])+v[6]*b3*v[4]-m1)\n",
    "    dc2dt = v[1]*(v[7]*(b1*v[2]+b3*v[4])+v[8]*b2*v[3]-m2)\n",
    "    dr1dt = v[2]*(r1-s*v[2]-v[5]*v[0]-v[7]*v[1])\n",
    "    dr2dt = v[3]*(r2-s*v[3]-v[5]*v[0]-v[8]*v[1])\n",
    "    dr3dt = v[4]*(r3-s*v[4]-v[6]*v[0]-v[7]*v[1])\n",
    "    da1dt = v[5]*(b1*(1-v[5])*v[2]+b2*(1-v[5])*v[3]-b3*v[4]*v[6])\n",
    "    da2dt = v[6]*(b3*(1-v[6])*v[4]-v[5]*(b1*v[2]+b2*v[3]))\n",
    "    da3dt = v[7]*(b1*v[2]+b3*v[4]-v[7]*(b1*v[2]+b3*v[4])-v[8]*b2*v[3])\n",
    "    da4dt = v[8]*(b2*v[3]-v[7]*(b1*v[2]+b3*v[4])-v[8]*b2*v[3])\n",
    "    return [dc1dt,dc2dt,dr1dt,dr2dt,dr3dt,da1dt,da2dt,da3dt,da4dt]"
   ]
  },
  {
   "cell_type": "code",
   "execution_count": 1435,
   "metadata": {},
   "outputs": [],
   "source": [
    "#caluculate model (Case 3)\n",
    "var_list = odeint(functree, init, t_list, args=(b1,b2,b3,r1,r2,r3,s,m1,m2))"
   ]
  },
  {
   "cell_type": "code",
   "execution_count": 1436,
   "metadata": {},
   "outputs": [
    {
     "data": {
      "text/plain": [
       "(0.0, 3.487221288101358)"
      ]
     },
     "execution_count": 1436,
     "metadata": {},
     "output_type": "execute_result"
    },
    {
     "data": {
      "image/png": "[encoded data removed]",
      "text/plain": [
       "<Figure size 432x288 with 1 Axes>"
      ]
     },
     "metadata": {
      "needs_background": "light"
     },
     "output_type": "display_data"
    }
   ],
   "source": [
    "#plot model(Case3)\n",
    "plt.plot(t_list,var_list[:,0],label=\"Predator 1\")\n",
    "plt.plot(t_list,var_list[:,1],label=\"Predator 2\",color=\"m\")\n",
    "plt.plot(t_list,var_list[:,2],label=\"Prey 1\")\n",
    "plt.plot(t_list,var_list[:,3],label=\"Prey 2\")\n",
    "plt.plot(t_list,var_list[:,4],label=\"Prey 3\")\n",
    "plt.xlabel('time')\n",
    "plt.ylabel('abundance')\n",
    "plt.legend()\n",
    "plt.ylim(0,)"
   ]
  },
  {
   "cell_type": "code",
   "execution_count": 1346,
   "metadata": {},
   "outputs": [],
   "source": [
    "# define the model of predator-prey(case4)\n",
    "def functree(v,t,b1,b2,b3,r1,r2,r3,s,m1,m2):\n",
    "    dc1dt = v[0]*(v[5]*(b1*v[2]+b2*v[3])+v[6]*b3*v[4]-m1)\n",
    "    dc2dt = v[1]*(v[7]*b1*v[2]+v[8]*b2*v[3]+v[9]*b3*v[4]-m2)\n",
    "    dr1dt = v[2]*(r1-s*v[2]-v[5]*v[0]-v[7]*v[1])\n",
    "    dr2dt = v[3]*(r2-s*v[3]-v[5]*v[0]-v[8]*v[1])\n",
    "    dr3dt = v[4]*(r3-s*v[4]-v[6]*v[0]-v[9]*v[1])\n",
    "    da1dt = v[5]*(b1*(1-v[5])*v[2]+b2*(1-v[5])*v[3]-b3*v[4]*v[6])\n",
    "    da2dt = v[6]*(b3*(1-v[6])*v[4]-v[5]*(b1*v[2]+b2*v[3]))\n",
    "    da3dt = v[7]*(b1*v[2]-b1*v[7]*v[2]-v[8]*b2*v[3]-v[9]*b3*v[4])\n",
    "    da4dt = v[8]*(b2*v[3]-b1*v[7]*v[2]-v[8]*b2*v[3]-v[9]*b3*v[4])\n",
    "    da5dt = v[9]*(b3*v[4]-b1*v[7]*v[2]-v[8]*b2*v[3]-v[9]*b3*v[4])\n",
    "    return [dc1dt,dc2dt,dr1dt,dr2dt,dr3dt,da1dt,da2dt,da3dt,da4dt,da5dt]"
   ]
  },
  {
   "cell_type": "code",
   "execution_count": 1347,
   "metadata": {},
   "outputs": [],
   "source": [
    "#Caluculate model(case4)\n",
    "var_list = odeint(functree, init2, t_list, args=(b1,b2,b3,r1,r2,r3,s,m1,m2))"
   ]
  },
  {
   "cell_type": "code",
   "execution_count": 1348,
   "metadata": {},
   "outputs": [
    {
     "data": {
      "text/plain": [
       "(0.0, 4.33124193194116)"
      ]
     },
     "execution_count": 1348,
     "metadata": {},
     "output_type": "execute_result"
    },
    {
     "data": {
      "image/png": "[encoded data removed]",
      "text/plain": [
       "<Figure size 432x288 with 1 Axes>"
      ]
     },
     "metadata": {
      "needs_background": "light"
     },
     "output_type": "display_data"
    }
   ],
   "source": [
    "#plot model(case4)\n",
    "plt.plot(t_list,var_list[:,0],label=\"Predator 1\")\n",
    "plt.plot(t_list,var_list[:,1],label=\"Predator 2\",color=\"m\")\n",
    "plt.plot(t_list,var_list[:,2],label=\"Prey 1\")\n",
    "plt.plot(t_list,var_list[:,3],label=\"Prey 2\")\n",
    "plt.plot(t_list,var_list[:,4],label=\"Prey 3\")\n",
    "plt.xlabel('time')\n",
    "plt.ylabel('abundance')\n",
    "plt.legend()\n",
    "plt.ylim(0,)"
   ]
  },
  {
   "cell_type": "code",
   "execution_count": 1433,
   "metadata": {},
   "outputs": [],
   "source": [
    "#predator adaptive foraging  is faster than  other dynamics"
   ]
  },
  {
   "cell_type": "code",
   "execution_count": null,
   "metadata": {},
   "outputs": [],
   "source": [
    "# define equations "
   ]
  },
  {
   "cell_type": "code",
   "execution_count": 1349,
   "metadata": {},
   "outputs": [],
   "source": [
    "def threeprey(v,b1,b2,b3,r1,r2,r3,s,m1,a1,a2):\n",
    "    dc1dt = v[0]*(a1*(b1*v[1]+b2*v[2]-m1)+a2*(b3*v[3]-m1))\n",
    "    dr1dt = v[1]*(r1-s*v[1]-a1*v[0])\n",
    "    dr2dt = v[2]*(r2-s*v[2]-a1*v[0])\n",
    "    dr3dt = v[3]*(r3-s*v[3]-a2*v[0])\n",
    "    outcome = np.array([dc1dt,dr1dt,dr2dt,dr3dt])\n",
    "    return outcome"
   ]
  },
  {
   "cell_type": "code",
   "execution_count": 1350,
   "metadata": {},
   "outputs": [],
   "source": [
    "def thpreytwopredatorcase2(v,b1,b2,b3,r1,r2,r3,s,m1,m2,a11,a12,a21,a22):\n",
    "    dc1dt = v[0]*(a11*(b1*v[2]+b2*v[3])+a12*b3*v[4]-m1)\n",
    "    dc2dt = v[1]*(a21*b1*v[2]+a22*(b2*v[3]+b3*v[4])-m2)\n",
    "    dr1dt = v[2]*(r1-s*v[2]-a11*v[0]-a21*v[1])\n",
    "    dr2dt = v[3]*(r2-s*v[3]-a11*v[0]-a22*v[1])\n",
    "    dr3dt = v[4]*(r3-s*v[4]-a12*v[0]-a22*v[1])\n",
    "    outcome = np.array([dc1dt,dc2dt,dr1dt,dr2dt,dr3dt])\n",
    "    return outcome"
   ]
  },
  {
   "cell_type": "code",
   "execution_count": 1351,
   "metadata": {},
   "outputs": [],
   "source": [
    "def thpreytwopredatorcase3(v,b1,b2,b3,r1,r2,r3,s,m1,m2,a11,a12,a21,a22):\n",
    "    dc1dt = v[0]*(a11*(b1*v[2]+b2*v[3])+a12*b3*v[4]-m1)\n",
    "    dc2dt = v[1]*(a21*(b1*v[2]+b3*v[4])+a22*b2*v[3]-m2)\n",
    "    dr1dt = v[2]*(r1-s*v[2]-a11*v[0]-a21*v[1])\n",
    "    dr2dt = v[3]*(r2-s*v[3]-a11*v[0]-a22*v[1])\n",
    "    dr3dt = v[4]*(r3-s*v[4]-a12*v[0]-a21*v[1])\n",
    "    outcome =np.array([dc1dt,dc2dt,dr1dt,dr2dt,dr3dt])\n",
    "    return outcome"
   ]
  },
  {
   "cell_type": "code",
   "execution_count": 1352,
   "metadata": {},
   "outputs": [],
   "source": [
    "def thpreytwopredatorcase4(v,b1,b2,b3,r1,r2,r3,s,m1,m2,a11,a12,a21,a22,a23):\n",
    "    dc1dt = v[0]*(a11*(b1*v[2]+b2*v[3])+a12*b3*v[4]-m1)\n",
    "    dc2dt = v[1]*(a21*b1*v[2]+a22*b2*v[3]+a23*b3*v[4]-m2)\n",
    "    dr1dt = v[2]*(r1-s*v[2]-a11*v[0]-a21*v[1])\n",
    "    dr2dt = v[3]*(r2-s*v[3]-a11*v[0]-a22*v[1])\n",
    "    dr3dt = v[4]*(r3-s*v[4]-a12*v[0]-a23*v[1])\n",
    "    outcome = np.array([dc1dt,dc2dt,dr1dt,dr2dt,dr3dt])\n",
    "    return outcome"
   ]
  },
  {
   "cell_type": "code",
   "execution_count": 1353,
   "metadata": {},
   "outputs": [],
   "source": [
    "# define foraging behaviour(Predator recognizes prey 1 and prey2 as same prey)\n",
    "def onepredatoradaptive(b1,b2,b3,R1,R2,R3):\n",
    "    gain1 = b1*R1+b2*R2\n",
    "    gain2 = b3*R3\n",
    "    if gain1 > gain2:\n",
    "        a1 = 1\n",
    "        a2 = 0\n",
    "    elif gain1 < gain2:\n",
    "        a1 = 0\n",
    "        a2 = 1\n",
    "    else:\n",
    "        a1 = 1/2\n",
    "        a2 = 1/2\n",
    "    \n",
    "    return [a1,a2]"
   ]
  },
  {
   "cell_type": "code",
   "execution_count": 1354,
   "metadata": {},
   "outputs": [],
   "source": [
    "## define foraging behaviour(Predator recognizes prey 2 and prey3 as same prey)\n",
    "def anotherpredatoradaptivecase2(b1,b2,b3,R1,R2,R3):\n",
    "    gain1 = b1*R1\n",
    "    gain2 = b2*R2 + b3*R3\n",
    "    if gain1 > gain2:\n",
    "        a1 = 1\n",
    "        a2 = 0\n",
    "    elif gain1 < gain2:\n",
    "        a1 = 0\n",
    "        a2 = 1\n",
    "    else:\n",
    "        a1 = 1/2\n",
    "        a2 = 1/2\n",
    "    \n",
    "    return [a1,a2]"
   ]
  },
  {
   "cell_type": "code",
   "execution_count": 1355,
   "metadata": {},
   "outputs": [],
   "source": [
    "# define foraging behaviour(Predator recognizes prey 1 and prey3 as same prey)\n",
    "def anotherpredatoradaptivecase3(b1,b2,b3,R1,R2,R3):\n",
    "    gain1 = b1*R1 + b3*R3\n",
    "    gain2 = b2*R2 \n",
    "    if gain1 > gain2:\n",
    "        a1 = 1\n",
    "        a2 = 0\n",
    "    elif gain1 < gain2:\n",
    "        a1 = 0\n",
    "        a2 = 1\n",
    "    else:\n",
    "        a1 = 1/2\n",
    "        a2 = 1/2\n",
    "    \n",
    "    return [a1,a2]"
   ]
  },
  {
   "cell_type": "code",
   "execution_count": 1356,
   "metadata": {},
   "outputs": [],
   "source": [
    "# define foraging behaviour(Predator distinguishes all prey species)\n",
    "def anotherpredatoradaptivecase4(b1,b2,b3,R1,R2,R3):\n",
    "    gain1 = b1*R1\n",
    "    gain2 = b2*R2 \n",
    "    gain3 = b3*R3\n",
    "    if gain1 > gain2:\n",
    "        if gain2 > gain3:\n",
    "            a1 = 1\n",
    "            a2 = 0\n",
    "            a3 = 0\n",
    "        elif gain3 > gain1:\n",
    "            a1 = 0\n",
    "            a2 = 0\n",
    "            a3 = 1\n",
    "        else:\n",
    "            a1 = 1/2\n",
    "            a2 = 0\n",
    "            a3 = 1/2\n",
    "    elif gain1 < gain2:\n",
    "        if gain2 > gain3:\n",
    "            a1 = 0\n",
    "            a2 = 1\n",
    "            a3 = 0\n",
    "        elif gain3 > gain2:\n",
    "            a1 = 0\n",
    "            a2 = 0\n",
    "            a3 = 1\n",
    "        else:\n",
    "            a1 = 0\n",
    "            a2 = 1/2\n",
    "            a3 = 1/2\n",
    "    else:\n",
    "        if gain1 > gain3:\n",
    "            a1 = 1/2\n",
    "            a2 = 1/2\n",
    "            a3 = 0\n",
    "        else:\n",
    "            a1 = 1/3\n",
    "            a2 = 1/3\n",
    "            a3 = 1/3\n",
    "    \n",
    "    return [a1,a2,a3]"
   ]
  },
  {
   "cell_type": "code",
   "execution_count": null,
   "metadata": {},
   "outputs": [],
   "source": [
    "#simulate population dynamics (using runge-kutta algholism)"
   ]
  },
  {
   "cell_type": "code",
   "execution_count": 1357,
   "metadata": {},
   "outputs": [],
   "source": [
    "def preyonepredatorthree(v:list,b1,b2,b3,r1,r2,r3,s,m1,a11,a12,h,n):\n",
    "    var_list = np.array(v)\n",
    "    v = np.array(v)\n",
    "    for i in range(n):\n",
    "        bv = v\n",
    "        k1 = threeprey(v,b1,b2,b3,r1,r2,r3,s,m1,a11,a12)*h\n",
    "        k2 = threeprey(v+k1/2,b1,b2,b3,r1,r2,r3,s,m1,a11,a12)*h\n",
    "        k3 = threeprey(v+k2/2,b1,b2,b3,r1,r2,r3,s,m1,a11,a12)*h\n",
    "        k4 = threeprey(v+k3,b1,b2,b3,r1,r2,r3,s,m1,a11,a12)*h\n",
    "        v  =  bv + (k1+2*k2+2*k3+k4)/6\n",
    "        R1 = v[1]\n",
    "        R2 = v[2]\n",
    "        R3 = v[3]\n",
    "        a = onepredatoradaptive(b1,b2,b3,R1,R2,R3)\n",
    "        a11 = a[0]\n",
    "        a12 = a[1]\n",
    "        var_list=np.vstack((var_list,v))\n",
    "    \n",
    "    return var_list"
   ]
  },
  {
   "cell_type": "code",
   "execution_count": 1388,
   "metadata": {},
   "outputs": [],
   "source": [
    "v = [1.0,1.0,1.0,1.0]"
   ]
  },
  {
   "cell_type": "code",
   "execution_count": 1389,
   "metadata": {},
   "outputs": [],
   "source": [
    "ll=preyonepredatorthree(v,b1,b2,b3,r1,r2,r3,s,m1,0.5,0.5,0.01,10000)"
   ]
  },
  {
   "cell_type": "code",
   "execution_count": 1390,
   "metadata": {},
   "outputs": [
    {
     "data": {
      "text/plain": [
       "array([[1.00000000e+00, 1.00000000e+00, 1.00000000e+00, 1.00000000e+00],\n",
       "       [1.00766570e+00, 1.02516689e+00, 1.00496838e+00, 1.00297048e+00],\n",
       "       [1.02869078e+00, 1.04531868e+00, 1.00473739e+00, 1.01095601e+00],\n",
       "       ...,\n",
       "       [3.15158521e+00, 1.35385725e+00, 4.73530748e-30, 1.29402973e+00],\n",
       "       [3.15239471e+00, 1.34707157e+00, 4.68106896e-30, 1.30055126e+00],\n",
       "       [3.15288621e+00, 1.34040136e+00, 4.62742162e-30, 1.30702076e+00]])"
      ]
     },
     "execution_count": 1390,
     "metadata": {},
     "output_type": "execute_result"
    }
   ],
   "source": [
    "ll"
   ]
  },
  {
   "cell_type": "code",
   "execution_count": 1418,
   "metadata": {},
   "outputs": [],
   "source": [
    "time = np.arange(0,100.01,0.01)"
   ]
  },
  {
   "cell_type": "code",
   "execution_count": 1423,
   "metadata": {},
   "outputs": [
    {
     "data": {
      "text/plain": [
       "(0.0, 4.80783645224518)"
      ]
     },
     "execution_count": 1423,
     "metadata": {},
     "output_type": "execute_result"
    },
    {
     "data": {
      "image/png": "[encoded data removed]",
      "text/plain": [
       "<Figure size 432x288 with 1 Axes>"
      ]
     },
     "metadata": {
      "needs_background": "light"
     },
     "output_type": "display_data"
    }
   ],
   "source": [
    "plt.plot(time,ll[:,0],label=\"Predator1\")\n",
    "plt.plot(time,ll[:,1],label=\"Prey1\")\n",
    "plt.plot(time,ll[:,2],label=\"Prey2\")\n",
    "plt.plot(time,ll[:,3],label=\"Prey3\")\n",
    "plt.xlabel('time')\n",
    "plt.ylabel('abundance')\n",
    "plt.legend()\n",
    "plt.ylim(0,)"
   ]
  },
  {
   "cell_type": "code",
   "execution_count": 1392,
   "metadata": {},
   "outputs": [],
   "source": [
    "def threepreytwopredatorcase2(v:list,b1,b2,b3,r1,r2,r3,s,m1,m2,a11,a12,a21,a22,h,n):\n",
    "    var_list = np.array(v)\n",
    "    v = np.array(v)\n",
    "    for i in range(n):\n",
    "        bv = v\n",
    "        k1 = thpreytwopredatorcase2(v,b1,b2,b3,r1,r2,r3,s,m1,m2,a11,a12,a21,a22)*h\n",
    "        k2 = thpreytwopredatorcase2(v+k1/2,b1,b2,b3,r1,r2,r3,s,m1,m2,a11,a12,a21,a22)*h\n",
    "        k3 = thpreytwopredatorcase2(v+k2/2,b1,b2,b3,r1,r2,r3,s,m1,m2,a11,a12,a21,a22)*h\n",
    "        k4 = thpreytwopredatorcase2(v+k3,b1,b2,b3,r1,r2,r3,s,m1,m2,a11,a12,a21,a22)*h\n",
    "        v  =  bv + (k1+2*k2+2*k3+k4)/6\n",
    "        R1 = v[2]\n",
    "        R2 = v[3]\n",
    "        R3 = v[4]\n",
    "        a = onepredatoradaptive(b1,b2,b3,R1,R2,R3)\n",
    "        a11 = a[0]\n",
    "        a12 = a[1]\n",
    "        b =  anotherpredatoradaptivecase2(b1,b2,b3,R1,R2,R3)\n",
    "        a21 = b[0]\n",
    "        a22 = b[1]\n",
    "        var_list=np.vstack((var_list,v))\n",
    "    return var_list"
   ]
  },
  {
   "cell_type": "code",
   "execution_count": 1393,
   "metadata": {},
   "outputs": [],
   "source": [
    "v = [1.0,1.0,1.0,1.0,1.0]"
   ]
  },
  {
   "cell_type": "code",
   "execution_count": 1427,
   "metadata": {},
   "outputs": [],
   "source": [
    "l2case2 = threepreytwopredatorcase2(v,b1,b2,b3,r1,r2,r3,s,m1,m2,0.5,0.5,0.5,0.5,0.01,10000)"
   ]
  },
  {
   "cell_type": "code",
   "execution_count": 1428,
   "metadata": {},
   "outputs": [
    {
     "data": {
      "text/plain": [
       "(0.0, 4.35899445004603)"
      ]
     },
     "execution_count": 1428,
     "metadata": {},
     "output_type": "execute_result"
    },
    {
     "data": {
      "image/png": "[encoded data removed]",
      "text/plain": [
       "<Figure size 432x288 with 1 Axes>"
      ]
     },
     "metadata": {
      "needs_background": "light"
     },
     "output_type": "display_data"
    }
   ],
   "source": [
    "plt.plot(time,l2case2[:,0],label=\"Predator1\")\n",
    "plt.plot(time,l2case2[:,1],color=\"m\",label=\"Predator2\")\n",
    "plt.plot(time,l2case2[:,2],label=\"Prey1\")\n",
    "plt.plot(time,l2case2[:,3],label=\"Prey2\")\n",
    "plt.plot(time,l2case2[:,4],label=\"Prey3\")\n",
    "plt.xlabel('time')\n",
    "plt.ylabel('abundance')\n",
    "plt.legend()\n",
    "plt.ylim(0,)"
   ]
  },
  {
   "cell_type": "code",
   "execution_count": 1396,
   "metadata": {},
   "outputs": [],
   "source": [
    "def threepreytwopredatorcase3(v:list,b1,b2,b3,r1,r2,r3,s,m1,m2,a11,a12,a21,a22,h,n):\n",
    "    var_list = np.array(v)\n",
    "    v = np.array(v)\n",
    "    for i in range(n):\n",
    "        bv = v\n",
    "        k1 = thpreytwopredatorcase3(v,b1,b2,b3,r1,r2,r3,s,m1,m2,a11,a12,a21,a22)*h\n",
    "        k2 = thpreytwopredatorcase3(v+k1/2,b1,b2,b3,r1,r2,r3,s,m1,m2,a11,a12,a21,a22)*h\n",
    "        k3 = thpreytwopredatorcase3(v+k2/2,b1,b2,b3,r1,r2,r3,s,m1,m2,a11,a12,a21,a22)*h\n",
    "        k4 = thpreytwopredatorcase3(v+k3,b1,b2,b3,r1,r2,r3,s,m1,m2,a11,a12,a21,a22)*h\n",
    "        v  =  bv + (k1+2*k2+2*k3+k4)/6\n",
    "        R1 = v[2]\n",
    "        R2 = v[3]\n",
    "        R3 = v[4]\n",
    "        a = onepredatoradaptive(b1,b2,b3,R1,R2,R3)\n",
    "        a11 = a[0]\n",
    "        a12 = a[1]\n",
    "        b =  anotherpredatoradaptivecase3(b1,b2,b3,R1,R2,R3)\n",
    "        a21 = b[0]\n",
    "        a22 = b[1]\n",
    "        var_list=np.vstack((var_list,v))\n",
    "    return var_list"
   ]
  },
  {
   "cell_type": "code",
   "execution_count": 1430,
   "metadata": {},
   "outputs": [],
   "source": [
    "l2case3 = threepreytwopredatorcase3(v,b1,b2,b3,r1,r2,r3,s,m1,m2,0.5,0.5,0.5,0.5,0.01,10000)"
   ]
  },
  {
   "cell_type": "code",
   "execution_count": 1431,
   "metadata": {},
   "outputs": [
    {
     "data": {
      "text/plain": [
       "(0.0, 3.0771898665461164)"
      ]
     },
     "execution_count": 1431,
     "metadata": {},
     "output_type": "execute_result"
    },
    {
     "data": {
      "image/png": "[encoded data removed]",
      "text/plain": [
       "<Figure size 432x288 with 1 Axes>"
      ]
     },
     "metadata": {
      "needs_background": "light"
     },
     "output_type": "display_data"
    }
   ],
   "source": [
    "plt.plot(time,l2case3[:,0],label=\"Predator1\")\n",
    "plt.plot(time,l2case3[:,1],color=\"m\",label=\"Predator2\")\n",
    "plt.plot(time,l2case3[:,2],label=\"Prey1\")\n",
    "plt.plot(time,l2case3[:,3],label=\"Prey2\")\n",
    "plt.plot(time,l2case3[:,4],label=\"Prey3\")\n",
    "plt.xlabel('time')\n",
    "plt.ylabel('abundance')\n",
    "plt.legend()\n",
    "plt.ylim(0,)"
   ]
  },
  {
   "cell_type": "code",
   "execution_count": 1399,
   "metadata": {},
   "outputs": [],
   "source": [
    "def threepreytwopredatorcase4(v:list,b1,b2,b3,r1,r2,r3,s,m1,m2,a11,a12,a21,a22,a23,h,n):\n",
    "    var_list = np.array(v)\n",
    "    v = np.array(v)\n",
    "    for i in range(n):\n",
    "        bv = v\n",
    "        k1 = thpreytwopredatorcase4(v,b1,b2,b3,r1,r2,r3,s,m1,m2,a11,a12,a21,a22,a23)*h\n",
    "        k2 = thpreytwopredatorcase4(v+k1/2,b1,b2,b3,r1,r2,r3,s,m1,m2,a11,a12,a21,a22,a23)*h\n",
    "        k3 = thpreytwopredatorcase4(v+k2/2,b1,b2,b3,r1,r2,r3,s,m1,m2,a11,a12,a21,a22,a23)*h\n",
    "        k4 = thpreytwopredatorcase4(v+k3,b1,b2,b3,r1,r2,r3,s,m1,m2,a11,a12,a21,a22,a23)*h\n",
    "        v  =  bv + (k1+2*k2+2*k3+k4)/6\n",
    "        R1 = v[2]\n",
    "        R2 = v[3]\n",
    "        R3 = v[4]\n",
    "        a = onepredatoradaptive(b1,b2,b3,R1,R2,R3)\n",
    "        a11 = a[0]\n",
    "        a12 = a[1]\n",
    "        b =  anotherpredatoradaptivecase4(b1,b2,b3,R1,R2,R3)\n",
    "        a21 = b[0]\n",
    "        a22 = b[1]\n",
    "        a23 = b[2]\n",
    "        var_list=np.vstack((var_list,v))\n",
    "    return var_list"
   ]
  },
  {
   "cell_type": "code",
   "execution_count": 1401,
   "metadata": {},
   "outputs": [],
   "source": [
    "l2case4 = threepreytwopredatorcase4(v,b1,b2,b3,r1,r2,r3,s,m1,m2,0.5,0.5,0.3,0.3,0.4,0.01,10000)"
   ]
  },
  {
   "cell_type": "code",
   "execution_count": 1432,
   "metadata": {},
   "outputs": [
    {
     "data": {
      "text/plain": [
       "(0.0, 3.902942567777028)"
      ]
     },
     "execution_count": 1432,
     "metadata": {},
     "output_type": "execute_result"
    },
    {
     "data": {
      "image/png": "[encoded data removed]",
      "text/plain": [
       "<Figure size 432x288 with 1 Axes>"
      ]
     },
     "metadata": {
      "needs_background": "light"
     },
     "output_type": "display_data"
    }
   ],
   "source": [
    "plt.plot(time,l2case4[:,0],label=\"Predator1\")\n",
    "plt.plot(time,l2case4[:,1],color=\"m\",label=\"Predator2\")\n",
    "plt.plot(time,l2case4[:,2],label=\"Prey1\")\n",
    "plt.plot(time,l2case4[:,3],label=\"Prey2\")\n",
    "plt.plot(time,l2case4[:,4],label=\"Prey3\")\n",
    "plt.xlabel('time')\n",
    "plt.ylabel('abundance')\n",
    "plt.legend()\n",
    "plt.ylim(0,)"
   ]
  },
  {
   "cell_type": "code",
   "execution_count": 1404,
   "metadata": {},
   "outputs": [
    {
     "data": {
      "text/plain": [
       "2.1447150333001814"
      ]
     },
     "execution_count": 1404,
     "metadata": {},
     "output_type": "execute_result"
    }
   ],
   "source": [
    "l2case4[900,1]"
   ]
  },
  {
   "cell_type": "code",
   "execution_count": null,
   "metadata": {},
   "outputs": [],
   "source": []
  }
 ],
 "metadata": {
  "kernelspec": {
   "display_name": "Python 3 (ipykernel)",
   "language": "python",
   "name": "python3"
  },
  "language_info": {
   "codemirror_mode": {
    "name": "ipython",
    "version": 3
   },
   "file_extension": ".py",
   "mimetype": "text/x-python",
   "name": "python",
   "nbconvert_exporter": "python",
   "pygments_lexer": "ipython3",
   "version": "3.9.12"
  }
 },
 "nbformat": 4,
 "nbformat_minor": 2
}
